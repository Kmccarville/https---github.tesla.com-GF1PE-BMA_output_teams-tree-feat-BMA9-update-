{
 "metadata": {
  "language_info": {
   "codemirror_mode": {
    "name": "ipython",
    "version": 3
   },
   "file_extension": ".py",
   "mimetype": "text/x-python",
   "name": "python",
   "nbconvert_exporter": "python",
   "pygments_lexer": "ipython3",
   "version": "3.7.9-final"
  },
  "orig_nbformat": 2,
  "kernelspec": {
   "name": "python_defaultSpec_1600301359146",
   "display_name": "Python 3.7.9 64-bit"
  }
 },
 "nbformat": 4,
 "nbformat_minor": 2,
 "cells": [
  {
   "cell_type": "code",
   "execution_count": 1,
   "metadata": {
    "tags": []
   },
   "outputs": [],
   "source": [
    "import time\n",
    "import schedule\n",
    "from datetime import datetime\n",
    "import error_handler\n",
    "from test import debug as masterdebug\n",
    "import logging \n",
    "import urllib3\n",
    "from db import teams_webhook\n",
    "from db import db_connector\n",
    "import requests\n",
    "import json\n",
    "import pandas \n",
    "import json\n",
    "import pandas \n",
    "from stash_reader import bmaoutput"
   ]
  },
  {
   "cell_type": "code",
   "execution_count": 2,
   "metadata": {
    "tags": []
   },
   "outputs": [
    {
     "output_type": "stream",
     "name": "stderr",
     "text": "INFO:root:main_active\n"
    }
   ],
   "source": [
    "logging.basicConfig(level=logging.INFO)\n",
    "logging.info(\"main_active\")\n",
    "debug=masterdebug"
   ]
  },
  {
   "cell_type": "code",
   "execution_count": 6,
   "metadata": {
    "tags": []
   },
   "outputs": [],
   "source": [
    "def uph_calculation(df):\n",
    "    \n",
    "    ACTA1  =[]\n",
    "    ACTA2 =[] \n",
    "    ACTA3 =[]\n",
    "    NESTED1 =[]\n",
    "    NESTED2 =[]\n",
    "    NESTED3 = []\n",
    "    AC3A1 =[]\n",
    "    AC3A2 =[]\n",
    "    AC3A3 = []\n",
    "    string = []\n",
    "    if len(df.index)>0:\n",
    "        for index, row in df.iterrows():  \n",
    "            if row['ActorModifiedby']  =='3BM1-26400-01':\n",
    "                ACTA1.append(f\"{row['Thingname']}\")\n",
    "            elif row['ActorModifiedby']  =='3BM2-26400-01':\n",
    "                ACTA2.append(f\"{row['Thingname']}\")\n",
    "            elif row['ActorModifiedby']  =='3BM3-26400-01':\n",
    "                ACTA3.append(f\"{row['Thingname']}\")\n",
    "            elif row['ActorModifiedby']  =='3BM1-29500-01':\n",
    "                NESTED1.append(f\"{row['Thingname']}\") \n",
    "            elif row['ActorModifiedby']  =='3BM2-29500-01':\n",
    "                NESTED2.append(f\"{row['Thingname']}\")\n",
    "            elif row['ActorModifiedby']  =='3BM3-29500-01':\n",
    "                NESTED3.append(f\"{row['Thingname']}\") \n",
    "            elif row['ActorModifiedby']  =='3BM1-40001-01':\n",
    "                AC3A1.append(f\"{row['Thingname']}\")  \n",
    "            elif row['ActorModifiedby']  =='3BM2-40001-01':\n",
    "                AC3A2.append(f\"{row['Thingname']}\")  \n",
    "            elif row['ActorModifiedby']  =='3BM3-40001-01':\n",
    "                AC3A3.append(f\"{row['Thingname']}\")                                \n",
    "\n",
    "    \n",
    "    \n",
    "    string = [len(ACTA1)/28 ,len(NESTED1)/4 , len(AC3A1)/4, len(ACTA2)/28 ,len(NESTED2)/4 , len(AC3A2)/4,len(ACTA3)/28, len(NESTED3)/4 , len(AC3A3)/4]\n",
    "    return(string)"
   ]
  },
  {
   "cell_type": "code",
   "execution_count": 8,
   "metadata": {
    "tags": []
   },
   "outputs": [
    {
     "output_type": "stream",
     "name": "stderr",
     "text": "INFO:root:{\"device\": \"db_connector\", \"time\": \"2020-09-17 00:11:54\", \"env\": \"local_laptop\", \"state\": \"Running\"}\n"
    }
   ],
   "source": [
    "sql=bmaoutput()\n",
    "df=db_connector(False,\"MOS\",sql=sql) \n",
    "output_string= uph_calculation(df)"
   ]
  },
  {
   "cell_type": "code",
   "execution_count": 10,
   "metadata": {
    "tags": []
   },
   "outputs": [
    {
     "output_type": "stream",
     "name": "stdout",
     "text": "0.0\n"
    }
   ],
   "source": [
    "print(output_string)"
   ]
  },
  {
   "cell_type": "code",
   "execution_count": 40,
   "metadata": {},
   "outputs": [],
   "source": [
    "title='Hourly Summary'\n",
    "message='message'\n",
    "payload={\"title\":title, \n",
    "\"summary\":\"summary\",\n",
    "\"sections\":[{\"activitySubtitle\" : message},\n",
    "            {'text':\"\"\"<table><tr><th>BMA</th><th>ACTA UPH</th><th>NESTED UPH</th><th>AC3A UPH</th></tr><tr><td>BMA1</td><td>{o1}</td><td>{o2}</td><td> {o3}</td></tr><tr><td>BMA2</td><td>{o4}</td><td>{o5}</td><td>{o6}</td></tr></tr></table>\"\"\".format(o1=output_string[0],o2=output_string[1],o3=output_string[2],o4=output_string[3],o5=output_string[4],o6=output_string[5]) }]}\n",
    "#post to BMA123-PE --> Output Channel\n",
    "response = requests.post(teams_webhook, json.dumps(payload))"
   ]
  },
  {
   "cell_type": "code",
   "execution_count": null,
   "metadata": {},
   "outputs": [],
   "source": []
  }
 ]
}